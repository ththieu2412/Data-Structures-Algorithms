{
 "cells": [
  {
   "cell_type": "markdown",
   "id": "29ed87a1",
   "metadata": {},
   "source": [
    "## Using list"
   ]
  },
  {
   "cell_type": "code",
   "execution_count": 2,
   "id": "becb9038",
   "metadata": {},
   "outputs": [
    {
     "name": "stdout",
     "output_type": "stream",
     "text": [
      "[12, 8, 21]\n",
      "21\n",
      "8\n",
      "12\n"
     ]
    }
   ],
   "source": [
    "# Stack implementation using list\n",
    "\n",
    "# create an empty stack\n",
    "stack = []\n",
    "  \n",
    "# push elements to the end of the list\n",
    "stack.append(12)\n",
    "stack.append(8)\n",
    "stack.append(21)\n",
    "print(stack)\n",
    "  \n",
    "# get elements from the end of the list\n",
    "print(stack.pop(-1))\n",
    "print(stack.pop(-1))\n",
    "print(stack.pop(-1))"
   ]
  },
  {
   "cell_type": "code",
   "execution_count": null,
   "id": "2e47d682",
   "metadata": {},
   "outputs": [],
   "source": []
  },
  {
   "cell_type": "code",
   "execution_count": null,
   "id": "089eb24b",
   "metadata": {},
   "outputs": [],
   "source": []
  },
  {
   "cell_type": "code",
   "execution_count": null,
   "id": "a3f9969d",
   "metadata": {},
   "outputs": [],
   "source": []
  },
  {
   "cell_type": "markdown",
   "id": "b1c84ef4",
   "metadata": {},
   "source": [
    "## Classes"
   ]
  },
  {
   "cell_type": "code",
   "execution_count": null,
   "id": "6b64969d",
   "metadata": {},
   "outputs": [],
   "source": [
    "# Stack implementation using a linked list\n",
    "\n",
    "# node class  \n",
    "class Node:\n",
    "    def __init__(self, value):\n",
    "        self.value = value\n",
    "        self.next = None"
   ]
  },
  {
   "cell_type": "code",
   "execution_count": null,
   "id": "43c3618b",
   "metadata": {},
   "outputs": [],
   "source": [
    "class Stack:\n",
    "    # Initializing a stack\n",
    "    # Use a dummy node, which is easier for handling edge cases.\n",
    "    def __init__(self):\n",
    "        self.head = Node(\"head\")\n",
    "        self.size = 0\n",
    "        \n",
    "    # String representation of the stack\n",
    "    def __str__(self):\n",
    "        cur = self.head.next\n",
    "        out = \"\"\n",
    "        while cur:\n",
    "            out += str(cur.value) + \"->\"\n",
    "            cur = cur.next\n",
    "        return out[:-3]\n",
    "    \n",
    "    # Get the current size of the stack\n",
    "    def getSize(self):\n",
    "        return self.size\n",
    "    \n",
    "    # Check if the stack is empty\n",
    "    def isEmpty(self):\n",
    "        return self.size == 0\n",
    "    \n",
    "    # Get the top item of the stack\n",
    "    def peek(self):\n",
    "        # Sanitary check to see if we are peeking an empty stack.\n",
    "        if self.isEmpty():\n",
    "            raise Exception(\"Peeking from an empty stack\")\n",
    "        return self.head.next.value\n",
    "    \n",
    "    # Push a value into the stack.\n",
    "    def push(self, value):\n",
    "        node = Node(value)\n",
    "        node.next = self.head.next\n",
    "        self.head.next = node\n",
    "        self.size += 1\n",
    "        \n",
    "    # Remove a value from the stack and return.\n",
    "    def pop(self):\n",
    "        if self.isEmpty():\n",
    "            raise Exception(\"Popping from an empty stack\")\n",
    "        remove = self.head.next\n",
    "        self.head.next = self.head.next.next\n",
    "        self.size -= 1\n",
    "        return remove.value"
   ]
  },
  {
   "cell_type": "code",
   "execution_count": null,
   "id": "cb03fb8d",
   "metadata": {},
   "outputs": [],
   "source": [
    "# Driver Code\n",
    "if __name__ == \"__main__\":\n",
    "    stack = Stack()\n",
    "    for i in range(1, 11):\n",
    "        stack.push(i)\n",
    "    print(f\"Stack: {stack}\")\n",
    "    \n",
    "    for _ in range(1, 6):\n",
    "        remove = stack.pop()\n",
    "        print(f\"Pop: {remove}\")\n",
    "    print(f\"Stack: {stack}\")"
   ]
  },
  {
   "cell_type": "code",
   "execution_count": null,
   "id": "80d6343d",
   "metadata": {},
   "outputs": [],
   "source": []
  },
  {
   "cell_type": "code",
   "execution_count": null,
   "id": "959b9a2b",
   "metadata": {},
   "outputs": [],
   "source": []
  }
 ],
 "metadata": {
  "kernelspec": {
   "display_name": "Python 3 (ipykernel)",
   "language": "python",
   "name": "python3"
  },
  "language_info": {
   "codemirror_mode": {
    "name": "ipython",
    "version": 3
   },
   "file_extension": ".py",
   "mimetype": "text/x-python",
   "name": "python",
   "nbconvert_exporter": "python",
   "pygments_lexer": "ipython3",
   "version": "3.9.12"
  }
 },
 "nbformat": 4,
 "nbformat_minor": 5
}
