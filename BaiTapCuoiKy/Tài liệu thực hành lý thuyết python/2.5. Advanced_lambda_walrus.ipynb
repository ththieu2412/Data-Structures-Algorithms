{
 "cells": [
  {
   "cell_type": "markdown",
   "id": "1bf0441c",
   "metadata": {},
   "source": [
    "## Walrus"
   ]
  },
  {
   "cell_type": "code",
   "execution_count": 1,
   "id": "334804f8",
   "metadata": {},
   "outputs": [
    {
     "name": "stdout",
     "output_type": "stream",
     "text": [
      "True\n"
     ]
    }
   ],
   "source": [
    "# walrus operator creates an assignment expression\n",
    "\n",
    "is_new = True\n",
    "print(is_new)"
   ]
  },
  {
   "cell_type": "code",
   "execution_count": 2,
   "id": "bd0b659a",
   "metadata": {},
   "outputs": [
    {
     "name": "stdout",
     "output_type": "stream",
     "text": [
      "True\n"
     ]
    }
   ],
   "source": [
    "print(is_new := True)"
   ]
  },
  {
   "cell_type": "code",
   "execution_count": 3,
   "id": "023f33b5",
   "metadata": {},
   "outputs": [
    {
     "name": "stdout",
     "output_type": "stream",
     "text": [
      "warning, the word ab has 2 characters\n",
      "warning, the word a has 1 characters\n"
     ]
    }
   ],
   "source": [
    "words = ['falcon', 'sky', 'ab', 'water', 'a', 'forest']\n",
    "\n",
    "for word in words:\n",
    "    if ((n := len(word)) < 3):\n",
    "        print(f'warning, the word {word} has {n} characters')"
   ]
  },
  {
   "cell_type": "code",
   "execution_count": null,
   "id": "04c796e6",
   "metadata": {},
   "outputs": [],
   "source": []
  },
  {
   "cell_type": "markdown",
   "id": "334902a3",
   "metadata": {},
   "source": [
    "## type hints"
   ]
  },
  {
   "cell_type": "code",
   "execution_count": 4,
   "id": "32bf979f",
   "metadata": {},
   "outputs": [
    {
     "name": "stdout",
     "output_type": "stream",
     "text": [
      "Hi John\n"
     ]
    }
   ],
   "source": [
    "def say_hi(name):\n",
    "    return f'Hi {name}'\n",
    "\n",
    "greeting = say_hi('John')\n",
    "print(greeting)"
   ]
  },
  {
   "cell_type": "code",
   "execution_count": 8,
   "id": "e80b2300",
   "metadata": {},
   "outputs": [
    {
     "name": "stdout",
     "output_type": "stream",
     "text": [
      "<class 'str'>\n",
      "Hi John\n",
      "<class 'int'>\n",
      "Hi 123\n"
     ]
    }
   ],
   "source": [
    "def say_hi(name: str) -> str:\n",
    "    print(type(name))\n",
    "    return f'Hi {name}'\n",
    "\n",
    "greeting = say_hi('John')\n",
    "print(greeting)\n",
    "\n",
    "greeting = say_hi(123)\n",
    "print(greeting)"
   ]
  },
  {
   "cell_type": "code",
   "execution_count": null,
   "id": "cb96147d",
   "metadata": {},
   "outputs": [],
   "source": []
  },
  {
   "cell_type": "markdown",
   "id": "bb46c203",
   "metadata": {},
   "source": [
    "## Lambda"
   ]
  },
  {
   "cell_type": "code",
   "execution_count": 9,
   "id": "4d0c366d",
   "metadata": {},
   "outputs": [
    {
     "name": "stdout",
     "output_type": "stream",
     "text": [
      "15\n"
     ]
    }
   ],
   "source": [
    "# lambda arguments : expression\n",
    "\n",
    "x = lambda a : a + 10\n",
    "print(x(5))"
   ]
  },
  {
   "cell_type": "code",
   "execution_count": 10,
   "id": "f095b201",
   "metadata": {},
   "outputs": [
    {
     "name": "stdout",
     "output_type": "stream",
     "text": [
      "30\n"
     ]
    }
   ],
   "source": [
    "x = lambda a, b : a * b\n",
    "print(x(5, 6))"
   ]
  },
  {
   "cell_type": "code",
   "execution_count": 11,
   "id": "b6bcc55f",
   "metadata": {},
   "outputs": [
    {
     "name": "stdout",
     "output_type": "stream",
     "text": [
      "22\n"
     ]
    }
   ],
   "source": [
    "def myfunc(n):\n",
    "  return lambda a : a * n\n",
    "\n",
    "mydoubler = myfunc(2)\n",
    "\n",
    "print(mydoubler(11))"
   ]
  },
  {
   "cell_type": "code",
   "execution_count": null,
   "id": "9741ee82",
   "metadata": {},
   "outputs": [],
   "source": []
  },
  {
   "cell_type": "code",
   "execution_count": 15,
   "id": "d76c4778",
   "metadata": {},
   "outputs": [
    {
     "data": {
      "text/plain": [
       "[0, 1, 4, 9, 16, 25, 36, 49, 64, 81]"
      ]
     },
     "execution_count": 15,
     "metadata": {},
     "output_type": "execute_result"
    }
   ],
   "source": [
    "def square(x): \n",
    "    return x*x\n",
    "[square(x) for x in range(10)]"
   ]
  },
  {
   "cell_type": "code",
   "execution_count": 12,
   "id": "8ccd30cc",
   "metadata": {},
   "outputs": [
    {
     "data": {
      "text/plain": [
       "[0, 1, 4, 9, 16, 25, 36, 49, 64, 81]"
      ]
     },
     "execution_count": 12,
     "metadata": {},
     "output_type": "execute_result"
    }
   ],
   "source": [
    "f = lambda x: x*x\n",
    "[f(x) for x in range(10)]"
   ]
  },
  {
   "cell_type": "code",
   "execution_count": 14,
   "id": "960c1ac7",
   "metadata": {},
   "outputs": [
    {
     "data": {
      "text/plain": [
       "[0, 1, 4, 9, 16, 25, 36, 49, 64, 81]"
      ]
     },
     "execution_count": 14,
     "metadata": {},
     "output_type": "execute_result"
    }
   ],
   "source": [
    "[(lambda x: x*x)(x) for x in range(10)]"
   ]
  },
  {
   "cell_type": "code",
   "execution_count": null,
   "id": "475b0818",
   "metadata": {},
   "outputs": [],
   "source": [
    "[lambda x: x*x for x in range(10)]"
   ]
  },
  {
   "cell_type": "code",
   "execution_count": null,
   "id": "226a15b3",
   "metadata": {},
   "outputs": [],
   "source": []
  },
  {
   "cell_type": "markdown",
   "id": "f78873a0",
   "metadata": {},
   "source": [
    "## Iterator"
   ]
  },
  {
   "cell_type": "code",
   "execution_count": null,
   "id": "91f08289",
   "metadata": {},
   "outputs": [],
   "source": []
  },
  {
   "cell_type": "code",
   "execution_count": null,
   "id": "b3a35842",
   "metadata": {},
   "outputs": [],
   "source": []
  },
  {
   "cell_type": "code",
   "execution_count": null,
   "id": "67454646",
   "metadata": {},
   "outputs": [],
   "source": []
  },
  {
   "cell_type": "code",
   "execution_count": null,
   "id": "3c86a552",
   "metadata": {},
   "outputs": [],
   "source": []
  },
  {
   "cell_type": "code",
   "execution_count": null,
   "id": "b2b6a9f3",
   "metadata": {},
   "outputs": [],
   "source": []
  }
 ],
 "metadata": {
  "kernelspec": {
   "display_name": "Python 3 (ipykernel)",
   "language": "python",
   "name": "python3"
  },
  "language_info": {
   "codemirror_mode": {
    "name": "ipython",
    "version": 3
   },
   "file_extension": ".py",
   "mimetype": "text/x-python",
   "name": "python",
   "nbconvert_exporter": "python",
   "pygments_lexer": "ipython3",
   "version": "3.9.12"
  }
 },
 "nbformat": 4,
 "nbformat_minor": 5
}
